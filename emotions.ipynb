{
  "cells": [
    {
      "cell_type": "markdown",
      "metadata": {
        "id": "view-in-github",
        "colab_type": "text"
      },
      "source": [
        "<a href=\"https://colab.research.google.com/github/imishin1/lab_neural_networks/blob/main/emotions.ipynb\" target=\"_parent\"><img src=\"https://colab.research.google.com/assets/colab-badge.svg\" alt=\"Open In Colab\"/></a>"
      ]
    },
    {
      "cell_type": "markdown",
      "id": "fe3342a5",
      "metadata": {
        "id": "fe3342a5"
      },
      "source": [
        "# Emotional network\n",
        "## Import libs and get dataset"
      ]
    },
    {
      "cell_type": "code",
      "execution_count": 1,
      "id": "862a12d3",
      "metadata": {
        "id": "862a12d3"
      },
      "outputs": [],
      "source": [
        "import torch\n",
        "from torch.utils.data import Dataset, DataLoader\n",
        "import matplotlib.pyplot as plt\n",
        "import pandas as pd\n",
        "import numpy as np\n",
        "from torch import nn\n",
        "from sklearn.preprocessing import StandardScaler, OneHotEncoder\n",
        "from pandas.api.types import CategoricalDtype \n",
        "import torchvision\n",
        "import ast"
      ]
    },
    {
      "cell_type": "code",
      "source": [
        "device = torch.device(\"cuda:0\" if torch.cuda.is_available() else \"cpu\")\n",
        "print(f\"Using {device} device\")"
      ],
      "metadata": {
        "colab": {
          "base_uri": "https://localhost:8080/"
        },
        "id": "Oj1g0GZbs85X",
        "outputId": "f2017fbc-8dee-46d1-aa65-701f75693af7"
      },
      "id": "Oj1g0GZbs85X",
      "execution_count": 2,
      "outputs": [
        {
          "output_type": "stream",
          "name": "stdout",
          "text": [
            "Using cuda:0 device\n"
          ]
        }
      ]
    },
    {
      "cell_type": "code",
      "source": [
        "# Инициализируем необходимые датасеты\n",
        "train_dataset=pd.read_csv('train.csv')\n",
        "validation_dataset = pd.read_csv('val.csv')\n",
        "test_dataset = pd.read_csv('test.csv')\n",
        "sample_dataset = pd.read_csv('sample_submission.csv')"
      ],
      "metadata": {
        "id": "9EF-cmpLlQz_"
      },
      "id": "9EF-cmpLlQz_",
      "execution_count": 3,
      "outputs": []
    },
    {
      "cell_type": "markdown",
      "id": "d2343a89",
      "metadata": {
        "id": "d2343a89"
      },
      "source": [
        "## Предобработка данных"
      ]
    },
    {
      "cell_type": "code",
      "execution_count": 4,
      "id": "d88fa12d",
      "metadata": {
        "id": "d88fa12d"
      },
      "outputs": [],
      "source": [
        "# Приводим pixels к листу с int значениями\n",
        "train_dataset['pixels'] = [[int(e) for e in x.strip('()').split(' ')] for x in train_dataset['pixels']]\n",
        "validation_dataset['pixels'] = [[int(e) for e in x.strip('()').split(' ')] for x in validation_dataset['pixels']]\n",
        "test_dataset['pixels'] = [[int(e) for e in x.strip('()').split(' ')] for x in test_dataset['pixels']]"
      ]
    },
    {
      "cell_type": "code",
      "execution_count": 5,
      "id": "be71be3a",
      "metadata": {
        "colab": {
          "base_uri": "https://localhost:8080/"
        },
        "id": "be71be3a",
        "outputId": "17e9996c-4ccd-4dc7-9374-7e37e5c7c387"
      },
      "outputs": [
        {
          "output_type": "stream",
          "name": "stdout",
          "text": [
            "                                                 pixels     id\n",
            "0     [170, 118, 101, 88, 88, 75, 78, 82, 66, 74, 68...  32298\n",
            "1     [7, 5, 8, 6, 7, 3, 2, 6, 5, 4, 4, 5, 7, 5, 5, ...  32299\n",
            "2     [232, 240, 241, 239, 237, 235, 246, 117, 24, 2...  32300\n",
            "3     [200, 197, 149, 139, 156, 89, 111, 58, 62, 95,...  32301\n",
            "4     [40, 28, 33, 56, 45, 33, 31, 78, 152, 194, 200...  32302\n",
            "...                                                 ...    ...\n",
            "3584  [50, 36, 17, 22, 23, 29, 33, 39, 34, 37, 37, 3...  35882\n",
            "3585  [178, 174, 172, 173, 181, 188, 191, 194, 196, ...  35883\n",
            "3586  [17, 17, 16, 23, 28, 22, 19, 17, 25, 26, 20, 2...  35884\n",
            "3587  [30, 28, 28, 29, 31, 30, 42, 68, 79, 81, 77, 6...  35885\n",
            "3588  [19, 13, 14, 12, 13, 16, 21, 33, 50, 57, 71, 8...  35886\n",
            "\n",
            "[3589 rows x 2 columns]\n"
          ]
        }
      ],
      "source": [
        "print(test_dataset)"
      ]
    },
    {
      "cell_type": "code",
      "execution_count": 6,
      "id": "469537e9",
      "metadata": {
        "colab": {
          "base_uri": "https://localhost:8080/"
        },
        "id": "469537e9",
        "outputId": "8284cda2-103b-4790-c2e8-06396a7152fb"
      },
      "outputs": [
        {
          "output_type": "execute_result",
          "data": {
            "text/plain": [
              "2304    28709\n",
              "dtype: int64"
            ]
          },
          "metadata": {},
          "execution_count": 6
        }
      ],
      "source": [
        "# Проверяем распределение размеров изображений\n",
        "len_list=list()\n",
        "for i in train_dataset['pixels']:\n",
        "    len_list.append(len(i))\n",
        "pd.DataFrame(len_list).value_counts()\n",
        "# Все изображения одного размера, соответсевнно дополнительной обработки не требуется  "
      ]
    },
    {
      "cell_type": "markdown",
      "id": "35d0dc0f",
      "metadata": {
        "id": "35d0dc0f"
      },
      "source": [
        "## Создание класса собственных датасетов"
      ]
    },
    {
      "cell_type": "code",
      "execution_count": 7,
      "id": "7e5d0a23",
      "metadata": {
        "id": "7e5d0a23"
      },
      "outputs": [],
      "source": [
        "class CustomDataset(Dataset):\n",
        "    def __init__(self, train_dataset, device):\n",
        "        self.X_train = torch.tensor(train_dataset['pixels'], dtype=torch.float32).reshape(len(train_dataset), 1, 48, 48).to(device)\n",
        "        self.y_train = torch.tensor(train_dataset['emotion']).to(device)\n",
        "        \n",
        "    def __len__(self):\n",
        "        return len(self.X_train)\n",
        "\n",
        "    def __getitem__(self, idx):\n",
        "        return self.X_train[idx], self.y_train[idx]\n",
        "\n",
        "class TestDataset(Dataset):\n",
        "    def __init__(self, test_dataset, device):\n",
        "        self.X_train = torch.tensor(test_dataset['pixels'], dtype=torch.float32).reshape(len(test_dataset), 1, 48, 48).to(device)\n",
        "        \n",
        "    def __len__(self):\n",
        "        return len(self.X_train)\n",
        "\n",
        "    def __getitem__(self, idx):\n",
        "        return self.X_train[idx]"
      ]
    },
    {
      "cell_type": "markdown",
      "id": "c8393b69",
      "metadata": {
        "id": "c8393b69"
      },
      "source": [
        "## Инициализия DataLoader"
      ]
    },
    {
      "cell_type": "code",
      "execution_count": 8,
      "id": "d6542a22",
      "metadata": {
        "id": "d6542a22"
      },
      "outputs": [],
      "source": [
        "train = CustomDataset(train_dataset, device)\n",
        "valid = CustomDataset(validation_dataset, device)\n",
        "test = TestDataset(test_dataset, device)\n",
        "\n",
        "\n",
        "train_dataloader = DataLoader(train, batch_size=64, shuffle=True)\n",
        "valid_dataloader = DataLoader(valid, batch_size=64, shuffle=True)\n",
        "test_dataloader = DataLoader(test, batch_size=128, shuffle=False)"
      ]
    },
    {
      "cell_type": "code",
      "execution_count": 9,
      "id": "ffe12cd8",
      "metadata": {
        "colab": {
          "base_uri": "https://localhost:8080/",
          "height": 929
        },
        "id": "ffe12cd8",
        "outputId": "46672fcf-76e2-4d3b-fd43-571ba44cf27c"
      },
      "outputs": [
        {
          "output_type": "display_data",
          "data": {
            "text/plain": [
              "<Figure size 360x360 with 1 Axes>"
            ],
            "image/png": "[encoded data removed]"
          },
          "metadata": {
            "needs_background": "light"
          }
        },
        {
          "output_type": "display_data",
          "data": {
            "text/plain": [
              "<Figure size 360x360 with 1 Axes>"
            ],
            "image/png": "[encoded data removed]"
          },
          "metadata": {
            "needs_background": "light"
          }
        },
        {
          "output_type": "display_data",
          "data": {
            "text/plain": [
              "<Figure size 360x360 with 1 Axes>"
            ],
            "image/png": "[encoded data removed]"
          },
          "metadata": {
            "needs_background": "light"
          }
        }
      ],
      "source": [
        "# Проверим, что изображение выводится корректно\n",
        "\n",
        "plt.figure(figsize=(5,5))\n",
        "plt.imshow(train.X_train.cpu()[10].reshape(48, 48), cmap='gray')\n",
        "plt.show()\n",
        "\n",
        "plt.figure(figsize=(5,5))\n",
        "plt.imshow(valid.X_train.cpu()[10].reshape(48, 48), cmap='gray')\n",
        "plt.show()\n",
        "plt.figure(figsize=(5,5))\n",
        "plt.imshow(test.X_train.cpu()[10].reshape(48, 48), cmap='gray')\n",
        "plt.show()"
      ]
    },
    {
      "cell_type": "markdown",
      "id": "f2453344",
      "metadata": {
        "id": "f2453344"
      },
      "source": [
        "## Создание архитектуры нейросети"
      ]
    },
    {
      "cell_type": "code",
      "execution_count": 10,
      "id": "1e5c499a",
      "metadata": {
        "id": "1e5c499a"
      },
      "outputs": [],
      "source": [
        "class NeuralNetwork(nn.Module):\n",
        "    def __init__(self):\n",
        "        super(NeuralNetwork, self).__init__()\n",
        "        self.network_stack = nn.Sequential(\n",
        "          nn.Conv2d(1, 32, 3),\n",
        "          nn.BatchNorm2d(32),\n",
        "          nn.ReLU(),\n",
        "          nn.Dropout(0.1),\n",
        "            \n",
        "          nn.Conv2d(32, 256, 3),\n",
        "          nn.BatchNorm2d(256),\n",
        "          nn.ReLU(),\n",
        "          nn.Dropout(0.1),\n",
        "            \n",
        "          nn.Conv2d(256, 256, 3),\n",
        "          nn.BatchNorm2d(256),\n",
        "          nn.ReLU(),\n",
        "          nn.Dropout(0.15),\n",
        "        \n",
        "          nn.Conv2d(256, 256, 3),\n",
        "          nn.BatchNorm2d(256),\n",
        "          nn.ReLU(),\n",
        "          nn.Dropout(0.15),\n",
        "            \n",
        "          nn.Conv2d(256, 128, 3),\n",
        "          nn.BatchNorm2d(128),\n",
        "          nn.ReLU(),\n",
        "          nn.Dropout(0.1),\n",
        "        \n",
        "          nn.Conv2d(128, 32, 3),\n",
        "          nn.BatchNorm2d(32),\n",
        "          nn.ReLU(),\n",
        "          nn.MaxPool2d(2, 2),\n",
        "            \n",
        "          nn.Flatten(),\n",
        "          nn.Linear(10368, 2048),\n",
        "          nn.ReLU(),\n",
        "          nn.Linear(2048, 128),\n",
        "          nn.ReLU(),\n",
        "          nn.Linear(128, 7)\n",
        "        )\n",
        "\n",
        "    def forward(self, x):\n",
        "        logits = self.network_stack(x)\n",
        "        return logits"
      ]
    },
    {
      "cell_type": "markdown",
      "id": "b696793a",
      "metadata": {
        "id": "b696793a"
      },
      "source": [
        "## Тренировка нейросети"
      ]
    },
    {
      "cell_type": "code",
      "execution_count": 11,
      "id": "b065fffa",
      "metadata": {
        "id": "b065fffa"
      },
      "outputs": [],
      "source": [
        "model = NeuralNetwork().to(device)\n",
        "\n",
        "def train_loop(dataloader, model, loss_fn, optimizer):\n",
        "    size = len(dataloader.dataset)\n",
        "\n",
        "    for batch, (X, y) in enumerate(dataloader):\n",
        "        # Compute prediction and loss\n",
        "        pred = model(X).to(device)\n",
        "        loss = loss_fn(pred, y)\n",
        "        # Backpropagation\n",
        "        optimizer.zero_grad()\n",
        "        loss.backward()\n",
        "        optimizer.step()\n",
        "    \n",
        "\n",
        "def valid_loop(dataloader, model, loss_fn):\n",
        "    num_batches = len(dataloader)\n",
        "    size = len(dataloader.dataset)\n",
        "    valid_loss, correct = 0, 0\n",
        "\n",
        "    with torch.no_grad():\n",
        "        for X, y in dataloader:\n",
        "            pred = model(X).to(device)\n",
        "            pred_soft=torch.softmax(pred, dim=1).argmax(dim=1)\n",
        "            valid_loss += loss_fn(pred, y).item()\n",
        "            correct += (pred_soft == y).type(torch.float).sum().item()\n",
        "    valid_loss /= num_batches\n",
        "    correct /= size\n",
        "    return [correct, valid_loss]\n",
        "\n",
        "def test_loop(dataloader, model, loss_fn):\n",
        "    num_elements = len(dataloader.dataset)\n",
        "    num_batches = len(dataloader)\n",
        "    batch_size = dataloader.batch_size\n",
        "    predictions = torch.zeros(num_elements).to(device)\n",
        "    with torch.no_grad():\n",
        "        for i, X in enumerate(dataloader):\n",
        "            pred = model(X).to(device)\n",
        "            pred_soft=torch.softmax(pred, dim=1).argmax(dim=1)\n",
        "            start = i*batch_size\n",
        "            end = start + batch_size\n",
        "            if i == num_batches - 1:\n",
        "                end = num_elements\n",
        "            predictions[start:end] = pred_soft\n",
        "            \n",
        "    return predictions\n"
      ]
    },
    {
      "cell_type": "code",
      "execution_count": 12,
      "id": "3e25827b",
      "metadata": {
        "colab": {
          "base_uri": "https://localhost:8080/"
        },
        "id": "3e25827b",
        "outputId": "7ff00785-3cbb-4282-848d-91db74db8d5c"
      },
      "outputs": [
        {
          "output_type": "stream",
          "name": "stdout",
          "text": [
            "Epoch 1 finished --> Accuracy: 25.5%, Avg loss: 1.765625\n",
            "Epoch 2 finished --> Accuracy: 31.7%, Avg loss: 1.709932\n",
            "Epoch 3 finished --> Accuracy: 36.1%, Avg loss: 1.654058\n",
            "Epoch 4 finished --> Accuracy: 39.3%, Avg loss: 1.593813\n",
            "Epoch 5 finished --> Accuracy: 40.7%, Avg loss: 1.549553\n",
            "Epoch 6 finished --> Accuracy: 42.5%, Avg loss: 1.513963\n",
            "Epoch 7 finished --> Accuracy: 43.4%, Avg loss: 1.481281\n",
            "Epoch 8 finished --> Accuracy: 44.1%, Avg loss: 1.461940\n",
            "Epoch 9 finished --> Accuracy: 45.6%, Avg loss: 1.430694\n",
            "Epoch 10 finished --> Accuracy: 46.0%, Avg loss: 1.417291\n",
            "Epoch 11 finished --> Accuracy: 46.0%, Avg loss: 1.395123\n",
            "Epoch 12 finished --> Accuracy: 46.7%, Avg loss: 1.395373\n",
            "Epoch 13 finished --> Accuracy: 48.0%, Avg loss: 1.367277\n",
            "Epoch 14 finished --> Accuracy: 48.5%, Avg loss: 1.348217\n",
            "Epoch 15 finished --> Accuracy: 48.8%, Avg loss: 1.340833\n",
            "Epoch 16 finished --> Accuracy: 48.5%, Avg loss: 1.336086\n",
            "Epoch 17 finished --> Accuracy: 50.4%, Avg loss: 1.317803\n",
            "Epoch 18 finished --> Accuracy: 49.3%, Avg loss: 1.314260\n",
            "Epoch 19 finished --> Accuracy: 49.2%, Avg loss: 1.308013\n",
            "Epoch 20 finished --> Accuracy: 50.5%, Avg loss: 1.303078\n",
            "Epoch 21 finished --> Accuracy: 49.8%, Avg loss: 1.298306\n",
            "Epoch 22 finished --> Accuracy: 51.6%, Avg loss: 1.277927\n",
            "Epoch 23 finished --> Accuracy: 50.5%, Avg loss: 1.295506\n",
            "Epoch 24 finished --> Accuracy: 51.5%, Avg loss: 1.271764\n",
            "Epoch 25 finished --> Accuracy: 52.4%, Avg loss: 1.252813\n",
            "Epoch 26 finished --> Accuracy: 51.7%, Avg loss: 1.251550\n",
            "Epoch 27 finished --> Accuracy: 52.8%, Avg loss: 1.251351\n",
            "Epoch 28 finished --> Accuracy: 52.8%, Avg loss: 1.238949\n",
            "Epoch 29 finished --> Accuracy: 51.9%, Avg loss: 1.262561\n",
            "Epoch 30 finished --> Accuracy: 52.1%, Avg loss: 1.239539\n",
            "Epoch 31 finished --> Accuracy: 52.2%, Avg loss: 1.225480\n",
            "Epoch 32 finished --> Accuracy: 53.1%, Avg loss: 1.220509\n",
            "Epoch 33 finished --> Accuracy: 53.7%, Avg loss: 1.227663\n",
            "Epoch 34 finished --> Accuracy: 52.6%, Avg loss: 1.229219\n",
            "Epoch 35 finished --> Accuracy: 53.8%, Avg loss: 1.221359\n",
            "Epoch 36 finished --> Accuracy: 54.4%, Avg loss: 1.227658\n",
            "Epoch 37 finished --> Accuracy: 54.3%, Avg loss: 1.221983\n",
            "Epoch 38 finished --> Accuracy: 54.8%, Avg loss: 1.213984\n",
            "Epoch 39 finished --> Accuracy: 55.1%, Avg loss: 1.217085\n",
            "Epoch 40 finished --> Accuracy: 54.1%, Avg loss: 1.223086\n",
            "Epoch 41 finished --> Accuracy: 54.2%, Avg loss: 1.192090\n",
            "Epoch 42 finished --> Accuracy: 55.3%, Avg loss: 1.189078\n",
            "Epoch 43 finished --> Accuracy: 54.4%, Avg loss: 1.218896\n",
            "Epoch 44 finished --> Accuracy: 54.4%, Avg loss: 1.226343\n",
            "Epoch 45 finished --> Accuracy: 55.4%, Avg loss: 1.192911\n",
            "Epoch 46 finished --> Accuracy: 55.4%, Avg loss: 1.207637\n",
            "Epoch 47 finished --> Accuracy: 55.6%, Avg loss: 1.203416\n",
            "Epoch 48 finished --> Accuracy: 56.5%, Avg loss: 1.206199\n",
            "Epoch 49 finished --> Accuracy: 55.8%, Avg loss: 1.200294\n",
            "Epoch 50 finished --> Accuracy: 55.5%, Avg loss: 1.212673\n"
          ]
        }
      ],
      "source": [
        "# Инициализируем массивы для отрисовки графиков\n",
        "epoch_list=list()\n",
        "accuracy_list=list()\n",
        "loss_list=list()\n",
        "\n",
        "# Инициализируем параметры для обучения\n",
        "learning_rate = 1e-3\n",
        "epochs = 50\n",
        "loss_fn = nn.CrossEntropyLoss()\n",
        "optimizer = torch.optim.SGD(model.parameters(), lr=learning_rate)\n",
        "\n",
        "# Обучаем\n",
        "for t in range(epochs):\n",
        "    train_loop(train_dataloader, model, loss_fn, optimizer)\n",
        "    metrics_list=valid_loop(valid_dataloader, model, loss_fn)\n",
        "    print(f\"Epoch {t+1} finished --> Accuracy: {(100*metrics_list[0]):>0.1f}%, Avg loss: {metrics_list[1]:>8f}\") \n",
        "    epoch_list.append(t)\n",
        "    accuracy_list.append(metrics_list[0])\n",
        "    loss_list.append(metrics_list[1])"
      ]
    },
    {
      "cell_type": "markdown",
      "id": "667b91a9",
      "metadata": {
        "id": "667b91a9"
      },
      "source": [
        "## Метрики"
      ]
    },
    {
      "cell_type": "code",
      "execution_count": 13,
      "id": "e33c22b3",
      "metadata": {
        "colab": {
          "base_uri": "https://localhost:8080/",
          "height": 601
        },
        "id": "e33c22b3",
        "outputId": "c380dec1-6f59-4d15-81fe-68bfccec54e7"
      },
      "outputs": [
        {
          "output_type": "display_data",
          "data": {
            "text/plain": [
              "<Figure size 432x288 with 1 Axes>"
            ],
            "image/png": "[encoded data removed]"
          },
          "metadata": {
            "needs_background": "light"
          }
        },
        {
          "output_type": "display_data",
          "data": {
            "text/plain": [
              "<Figure size 432x288 with 1 Axes>"
            ],
            "image/png": "[encoded data removed]"
          },
          "metadata": {
            "needs_background": "light"
          }
        }
      ],
      "source": [
        "###################################\n",
        "###  Построение графика потерь  ###\n",
        "###################################\n",
        "fig, axes = plt.subplots()\n",
        "\n",
        "\n",
        "axes.plot(epoch_list, loss_list, color='blue', label='loss')\n",
        "plt.title('Loss from epoch', pad = 20)\n",
        "plt.ylabel('loss')\n",
        "plt.xlabel('epoch')\n",
        "\n",
        "axes.set_xlim(0, epoch_list[-1])\n",
        "axes.set_ylim(0)\n",
        "\n",
        "plt.legend(loc=5)\n",
        "\n",
        "# Добавление дополнительной ссетки\n",
        "axes.grid(which='major', color = '#666666')\n",
        "axes.minorticks_on()\n",
        "axes.grid(which='minor', color = 'gray', linestyle = ':')\n",
        "\n",
        "\n",
        "#####################################\n",
        "###  Построение графика точности  ###\n",
        "#####################################\n",
        "\n",
        "fig, axes1 = plt.subplots()\n",
        "\n",
        "axes1.plot(epoch_list, accuracy_list, color='red', label='accuracy')\n",
        "plt.title('Accuracy from epoch', pad = 20)\n",
        "plt.ylabel('accuracy')\n",
        "plt.xlabel('epoch')\n",
        "\n",
        "axes1.set_xlim(0, epoch_list[-1])\n",
        "axes1.set_ylim(0, 1)\n",
        "\n",
        "plt.legend(loc=5)\n",
        "\n",
        "# Добавление дополнительной ссетки\n",
        "axes1.grid(which='major', color = '#666666')\n",
        "axes1.minorticks_on()\n",
        "axes1.grid(which='minor', color = 'gray', linestyle = ':')\n",
        "\n",
        "# Вывод отрисовки на экран\n",
        "plt.show()"
      ]
    },
    {
      "cell_type": "markdown",
      "id": "ce74e078",
      "metadata": {
        "id": "ce74e078"
      },
      "source": [
        "## Получение результата на тестовых данных"
      ]
    },
    {
      "cell_type": "code",
      "execution_count": 17,
      "id": "95daf6b1",
      "metadata": {
        "id": "95daf6b1"
      },
      "outputs": [],
      "source": [
        "loss_fn = nn.CrossEntropyLoss()\n",
        "test_pred = test_loop(test_dataloader, model, loss_fn)\n"
      ]
    },
    {
      "cell_type": "code",
      "execution_count": 18,
      "id": "8dd4c25f",
      "metadata": {
        "id": "8dd4c25f"
      },
      "outputs": [],
      "source": [
        "output = sample_dataset\n",
        "output['emotion'] = test_pred.cpu().type(torch.int)"
      ]
    },
    {
      "cell_type": "code",
      "execution_count": 19,
      "id": "dab2e7df",
      "metadata": {
        "colab": {
          "base_uri": "https://localhost:8080/"
        },
        "id": "dab2e7df",
        "outputId": "f07c85c8-b72c-4f0d-a4a2-c0fa2419309f"
      },
      "outputs": [
        {
          "output_type": "stream",
          "name": "stdout",
          "text": [
            "         id  emotion\n",
            "0     32298        0\n",
            "1     32299        0\n",
            "2     32300        6\n",
            "3     32301        3\n",
            "4     32302        0\n",
            "...     ...      ...\n",
            "3584  35882        6\n",
            "3585  35883        4\n",
            "3586  35884        6\n",
            "3587  35885        0\n",
            "3588  35886        4\n",
            "\n",
            "[3589 rows x 2 columns]\n"
          ]
        }
      ],
      "source": [
        "print(output)"
      ]
    },
    {
      "cell_type": "code",
      "execution_count": 20,
      "id": "f77e623c",
      "metadata": {
        "id": "f77e623c"
      },
      "outputs": [],
      "source": [
        "output.to_csv('network_test_out.csv', index=False)"
      ]
    }
  ],
  "metadata": {
    "kernelspec": {
      "display_name": "Python 3 (ipykernel)",
      "language": "python",
      "name": "python3"
    },
    "language_info": {
      "codemirror_mode": {
        "name": "ipython",
        "version": 3
      },
      "file_extension": ".py",
      "mimetype": "text/x-python",
      "name": "python",
      "nbconvert_exporter": "python",
      "pygments_lexer": "ipython3",
      "version": "3.8.10"
    },
    "colab": {
      "provenance": [],
      "include_colab_link": true
    },
    "accelerator": "GPU",
    "gpuClass": "standard"
  },
  "nbformat": 4,
  "nbformat_minor": 5
}