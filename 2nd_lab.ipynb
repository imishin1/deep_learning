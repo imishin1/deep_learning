{
 "cells": [
  {
   "cell_type": "markdown",
   "id": "5d273a03",
   "metadata": {},
   "source": [
    "# Лабораторная работа №2"
   ]
  },
  {
   "cell_type": "markdown",
   "id": "5c6886ee",
   "metadata": {},
   "source": [
    "Исходные данные:\n",
    "+ Датасет, согласно варианту (смотрим [тут](https://docs.google.com/spreadsheets/d/19lYYJEdA5IgjM2OHgqV0iGfREJCemXOBu1dsi2JteVo/edit?usp=sharing \"Таблица\"))\n",
    "\n",
    "Что нужно сделать:\n",
    "1. Осуществить предобработку данных (закодировать категориальные признаки, поработать с пропущенными значениями).  \n",
    "2. Разделить данные на train и test выборку.\n",
    "3. Обучить Scaler (sklearn.preprocessing.StandardScaler) на train, применить к train и test.  -- тут отшкалируем данные\n",
    "2. Сделать класс MyDataDataset, который наследуется от Dataset, реализовать необходимый функционал. (датасеты будут train и test)\n",
    "3. Инициализировать DataLoader с вашим MyDataDataset. (даталоадеры будет train и test)\n",
    "4. Создать архитектуру нейросети.\n",
    "5. Натренировать нейросеть на тренировочном множестве\n",
    "6. Вывести метрики качества настроенной нейросети на трейне и тесте (accuracy, precision, recall, f1-score для классификации, MAE, RMSE, MAPE для регрессии).\n",
    "7. Сделать выводы.\n",
    "8. (Бонус) Визуализация функции ошибки и метрик при тренировке модели от эпохи к эпохе на трейне и тесте.\n",
    "\n",
    "**Дедлайны**\n",
    "- soft -- 23.11.2022\n",
    "- hard -- начало зачетной недели\n",
    "\n",
    "**Куда сдавать**\n",
    "- telegram @l3lush\n",
    "- почта m1603956@edu.misis.ru\n",
    "- залить код в закрытый репозиторий и выдать права пользователю **l3lush**"
   ]
  },
  {
   "cell_type": "markdown",
   "id": "37b43912",
   "metadata": {},
   "source": [
    "# Пример, как импортить данные"
   ]
  },
  {
   "cell_type": "code",
   "execution_count": 1,
   "id": "afecd5b9",
   "metadata": {},
   "outputs": [],
   "source": [
    "import warnings\n",
    "import torch\n",
    "from torch.utils.data import Dataset, DataLoader\n",
    "import matplotlib.pyplot as plt\n",
    "from sklearn.model_selection import train_test_split\n",
    "import pandas as pd\n",
    "import numpy as np\n",
    "from torch import nn\n",
    "from sklearn.preprocessing import StandardScaler, OneHotEncoder\n",
    "from pandas.api.types import CategoricalDtype \n",
    "\n",
    "\n",
    "warnings.filterwarnings(\"ignore\")\n",
    "\n",
    "\n",
    "from sklearn.datasets import fetch_openml\n",
    "name_of_dataset = \"electricity\"  # название вашего датасета из таблицы\n",
    "data = fetch_openml(name=name_of_dataset)"
   ]
  },
  {
   "cell_type": "code",
   "execution_count": 2,
   "id": "d23f19a9",
   "metadata": {},
   "outputs": [
    {
     "data": {
      "text/html": [
       "<div>\n",
       "<style scoped>\n",
       "    .dataframe tbody tr th:only-of-type {\n",
       "        vertical-align: middle;\n",
       "    }\n",
       "\n",
       "    .dataframe tbody tr th {\n",
       "        vertical-align: top;\n",
       "    }\n",
       "\n",
       "    .dataframe thead th {\n",
       "        text-align: right;\n",
       "    }\n",
       "</style>\n",
       "<table border=\"1\" class=\"dataframe\">\n",
       "  <thead>\n",
       "    <tr style=\"text-align: right;\">\n",
       "      <th></th>\n",
       "      <th>date</th>\n",
       "      <th>day</th>\n",
       "      <th>period</th>\n",
       "      <th>nswprice</th>\n",
       "      <th>nswdemand</th>\n",
       "      <th>vicprice</th>\n",
       "      <th>vicdemand</th>\n",
       "      <th>transfer</th>\n",
       "    </tr>\n",
       "  </thead>\n",
       "  <tbody>\n",
       "    <tr>\n",
       "      <th>0</th>\n",
       "      <td>0.0000</td>\n",
       "      <td>2</td>\n",
       "      <td>0.000000</td>\n",
       "      <td>0.056443</td>\n",
       "      <td>0.439155</td>\n",
       "      <td>0.003467</td>\n",
       "      <td>0.422915</td>\n",
       "      <td>0.414912</td>\n",
       "    </tr>\n",
       "    <tr>\n",
       "      <th>1</th>\n",
       "      <td>0.0000</td>\n",
       "      <td>2</td>\n",
       "      <td>0.021277</td>\n",
       "      <td>0.051699</td>\n",
       "      <td>0.415055</td>\n",
       "      <td>0.003467</td>\n",
       "      <td>0.422915</td>\n",
       "      <td>0.414912</td>\n",
       "    </tr>\n",
       "    <tr>\n",
       "      <th>2</th>\n",
       "      <td>0.0000</td>\n",
       "      <td>2</td>\n",
       "      <td>0.042553</td>\n",
       "      <td>0.051489</td>\n",
       "      <td>0.385004</td>\n",
       "      <td>0.003467</td>\n",
       "      <td>0.422915</td>\n",
       "      <td>0.414912</td>\n",
       "    </tr>\n",
       "    <tr>\n",
       "      <th>3</th>\n",
       "      <td>0.0000</td>\n",
       "      <td>2</td>\n",
       "      <td>0.063830</td>\n",
       "      <td>0.045485</td>\n",
       "      <td>0.314639</td>\n",
       "      <td>0.003467</td>\n",
       "      <td>0.422915</td>\n",
       "      <td>0.414912</td>\n",
       "    </tr>\n",
       "    <tr>\n",
       "      <th>4</th>\n",
       "      <td>0.0000</td>\n",
       "      <td>2</td>\n",
       "      <td>0.085106</td>\n",
       "      <td>0.042482</td>\n",
       "      <td>0.251116</td>\n",
       "      <td>0.003467</td>\n",
       "      <td>0.422915</td>\n",
       "      <td>0.414912</td>\n",
       "    </tr>\n",
       "    <tr>\n",
       "      <th>...</th>\n",
       "      <td>...</td>\n",
       "      <td>...</td>\n",
       "      <td>...</td>\n",
       "      <td>...</td>\n",
       "      <td>...</td>\n",
       "      <td>...</td>\n",
       "      <td>...</td>\n",
       "      <td>...</td>\n",
       "    </tr>\n",
       "    <tr>\n",
       "      <th>45307</th>\n",
       "      <td>0.9158</td>\n",
       "      <td>7</td>\n",
       "      <td>0.914894</td>\n",
       "      <td>0.044224</td>\n",
       "      <td>0.340672</td>\n",
       "      <td>0.003033</td>\n",
       "      <td>0.255049</td>\n",
       "      <td>0.405263</td>\n",
       "    </tr>\n",
       "    <tr>\n",
       "      <th>45308</th>\n",
       "      <td>0.9158</td>\n",
       "      <td>7</td>\n",
       "      <td>0.936170</td>\n",
       "      <td>0.044884</td>\n",
       "      <td>0.355549</td>\n",
       "      <td>0.003072</td>\n",
       "      <td>0.241326</td>\n",
       "      <td>0.420614</td>\n",
       "    </tr>\n",
       "    <tr>\n",
       "      <th>45309</th>\n",
       "      <td>0.9158</td>\n",
       "      <td>7</td>\n",
       "      <td>0.957447</td>\n",
       "      <td>0.043593</td>\n",
       "      <td>0.340970</td>\n",
       "      <td>0.002983</td>\n",
       "      <td>0.247799</td>\n",
       "      <td>0.362281</td>\n",
       "    </tr>\n",
       "    <tr>\n",
       "      <th>45310</th>\n",
       "      <td>0.9158</td>\n",
       "      <td>7</td>\n",
       "      <td>0.978723</td>\n",
       "      <td>0.066651</td>\n",
       "      <td>0.329366</td>\n",
       "      <td>0.004630</td>\n",
       "      <td>0.345417</td>\n",
       "      <td>0.206579</td>\n",
       "    </tr>\n",
       "    <tr>\n",
       "      <th>45311</th>\n",
       "      <td>0.9158</td>\n",
       "      <td>7</td>\n",
       "      <td>1.000000</td>\n",
       "      <td>0.050679</td>\n",
       "      <td>0.288753</td>\n",
       "      <td>0.003542</td>\n",
       "      <td>0.355256</td>\n",
       "      <td>0.231140</td>\n",
       "    </tr>\n",
       "  </tbody>\n",
       "</table>\n",
       "<p>45312 rows × 8 columns</p>\n",
       "</div>"
      ],
      "text/plain": [
       "         date day    period  nswprice  nswdemand  vicprice  vicdemand  \\\n",
       "0      0.0000   2  0.000000  0.056443   0.439155  0.003467   0.422915   \n",
       "1      0.0000   2  0.021277  0.051699   0.415055  0.003467   0.422915   \n",
       "2      0.0000   2  0.042553  0.051489   0.385004  0.003467   0.422915   \n",
       "3      0.0000   2  0.063830  0.045485   0.314639  0.003467   0.422915   \n",
       "4      0.0000   2  0.085106  0.042482   0.251116  0.003467   0.422915   \n",
       "...       ...  ..       ...       ...        ...       ...        ...   \n",
       "45307  0.9158   7  0.914894  0.044224   0.340672  0.003033   0.255049   \n",
       "45308  0.9158   7  0.936170  0.044884   0.355549  0.003072   0.241326   \n",
       "45309  0.9158   7  0.957447  0.043593   0.340970  0.002983   0.247799   \n",
       "45310  0.9158   7  0.978723  0.066651   0.329366  0.004630   0.345417   \n",
       "45311  0.9158   7  1.000000  0.050679   0.288753  0.003542   0.355256   \n",
       "\n",
       "       transfer  \n",
       "0      0.414912  \n",
       "1      0.414912  \n",
       "2      0.414912  \n",
       "3      0.414912  \n",
       "4      0.414912  \n",
       "...         ...  \n",
       "45307  0.405263  \n",
       "45308  0.420614  \n",
       "45309  0.362281  \n",
       "45310  0.206579  \n",
       "45311  0.231140  \n",
       "\n",
       "[45312 rows x 8 columns]"
      ]
     },
     "execution_count": 2,
     "metadata": {},
     "output_type": "execute_result"
    }
   ],
   "source": [
    "# show the data\n",
    "data.data"
   ]
  },
  {
   "cell_type": "code",
   "execution_count": 3,
   "id": "205e31fb",
   "metadata": {},
   "outputs": [
    {
     "data": {
      "text/plain": [
       "0          UP\n",
       "1          UP\n",
       "2          UP\n",
       "3          UP\n",
       "4        DOWN\n",
       "         ... \n",
       "45307    DOWN\n",
       "45308    DOWN\n",
       "45309    DOWN\n",
       "45310      UP\n",
       "45311    DOWN\n",
       "Name: class, Length: 45312, dtype: category\n",
       "Categories (2, object): ['UP', 'DOWN']"
      ]
     },
     "execution_count": 3,
     "metadata": {},
     "output_type": "execute_result"
    }
   ],
   "source": [
    "data.target"
   ]
  },
  {
   "cell_type": "code",
   "execution_count": 4,
   "id": "7638379e",
   "metadata": {},
   "outputs": [
    {
     "data": {
      "text/html": [
       "<div>\n",
       "<style scoped>\n",
       "    .dataframe tbody tr th:only-of-type {\n",
       "        vertical-align: middle;\n",
       "    }\n",
       "\n",
       "    .dataframe tbody tr th {\n",
       "        vertical-align: top;\n",
       "    }\n",
       "\n",
       "    .dataframe thead th {\n",
       "        text-align: right;\n",
       "    }\n",
       "</style>\n",
       "<table border=\"1\" class=\"dataframe\">\n",
       "  <thead>\n",
       "    <tr style=\"text-align: right;\">\n",
       "      <th></th>\n",
       "      <th>date</th>\n",
       "      <th>day</th>\n",
       "      <th>period</th>\n",
       "      <th>nswprice</th>\n",
       "      <th>nswdemand</th>\n",
       "      <th>vicprice</th>\n",
       "      <th>vicdemand</th>\n",
       "      <th>transfer</th>\n",
       "    </tr>\n",
       "  </thead>\n",
       "  <tbody>\n",
       "    <tr>\n",
       "      <th>0</th>\n",
       "      <td>0.0</td>\n",
       "      <td>2</td>\n",
       "      <td>0.000000</td>\n",
       "      <td>0.056443</td>\n",
       "      <td>0.439155</td>\n",
       "      <td>0.003467</td>\n",
       "      <td>0.422915</td>\n",
       "      <td>0.414912</td>\n",
       "    </tr>\n",
       "    <tr>\n",
       "      <th>1</th>\n",
       "      <td>0.0</td>\n",
       "      <td>2</td>\n",
       "      <td>0.021277</td>\n",
       "      <td>0.051699</td>\n",
       "      <td>0.415055</td>\n",
       "      <td>0.003467</td>\n",
       "      <td>0.422915</td>\n",
       "      <td>0.414912</td>\n",
       "    </tr>\n",
       "    <tr>\n",
       "      <th>2</th>\n",
       "      <td>0.0</td>\n",
       "      <td>2</td>\n",
       "      <td>0.042553</td>\n",
       "      <td>0.051489</td>\n",
       "      <td>0.385004</td>\n",
       "      <td>0.003467</td>\n",
       "      <td>0.422915</td>\n",
       "      <td>0.414912</td>\n",
       "    </tr>\n",
       "    <tr>\n",
       "      <th>3</th>\n",
       "      <td>0.0</td>\n",
       "      <td>2</td>\n",
       "      <td>0.063830</td>\n",
       "      <td>0.045485</td>\n",
       "      <td>0.314639</td>\n",
       "      <td>0.003467</td>\n",
       "      <td>0.422915</td>\n",
       "      <td>0.414912</td>\n",
       "    </tr>\n",
       "    <tr>\n",
       "      <th>4</th>\n",
       "      <td>0.0</td>\n",
       "      <td>2</td>\n",
       "      <td>0.085106</td>\n",
       "      <td>0.042482</td>\n",
       "      <td>0.251116</td>\n",
       "      <td>0.003467</td>\n",
       "      <td>0.422915</td>\n",
       "      <td>0.414912</td>\n",
       "    </tr>\n",
       "  </tbody>\n",
       "</table>\n",
       "</div>"
      ],
      "text/plain": [
       "   date day    period  nswprice  nswdemand  vicprice  vicdemand  transfer\n",
       "0   0.0   2  0.000000  0.056443   0.439155  0.003467   0.422915  0.414912\n",
       "1   0.0   2  0.021277  0.051699   0.415055  0.003467   0.422915  0.414912\n",
       "2   0.0   2  0.042553  0.051489   0.385004  0.003467   0.422915  0.414912\n",
       "3   0.0   2  0.063830  0.045485   0.314639  0.003467   0.422915  0.414912\n",
       "4   0.0   2  0.085106  0.042482   0.251116  0.003467   0.422915  0.414912"
      ]
     },
     "execution_count": 4,
     "metadata": {},
     "output_type": "execute_result"
    }
   ],
   "source": [
    "# show head of data\n",
    "data.data.head()"
   ]
  },
  {
   "cell_type": "code",
   "execution_count": 5,
   "id": "00da29ca",
   "metadata": {},
   "outputs": [
    {
     "name": "stdout",
     "output_type": "stream",
     "text": [
      "**Author**: M. Harries, J. Gama, A. Bifet  \n",
      "**Source**: [Joao Gama](http://www.inescporto.pt/~jgama/ales/ales_5.html) - 2009  \n",
      "**Please cite**: None  \n",
      "\n",
      "**Electricity** is a widely used dataset described by M. Harries and analyzed by J. Gama (see papers below). This data was collected from the Australian New South Wales Electricity Market. In this market, prices are not fixed and are affected by demand and supply of the market. They are set every five minutes. Electricity transfers to/from the neighboring state of Victoria were done to alleviate fluctuations.\n",
      "\n",
      "The dataset (originally named ELEC2) contains 45,312 instances dated from 7 May 1996 to 5 December 1998. Each example of the dataset refers to a period of 30 minutes, i.e. there are 48 instances for each time period of one day. Each example on the dataset has 5 fields, the day of week, the time stamp, the New South Wales electricity demand, the Victoria electricity demand, the scheduled electricity transfer between states and the class label. The class label identifies the change of the price (UP or DOWN) in New South Wales relative to a moving average of the last 24 hours (and removes the impact of longer term price trends). \n",
      "\n",
      "The data was normalized by A. Bifet.\n",
      "\n",
      "### Attribute information  \n",
      "* Date: date between 7 May 1996 to 5 December 1998. Here normalized between 0 and 1\n",
      "* Day: day of the week (1-7)\n",
      "* Period: time of the measurement (1-48) in half hour intervals over 24 hours. Here normalized between 0 and 1\n",
      "* NSWprice: New South Wales electricity price, normalized between 0 and 1\n",
      "* NSWdemand: New South Wales electricity demand, normalized between 0 and 1\n",
      "* VICprice: Victoria electricity price, normalized between 0 and 1\n",
      "* VICdemand: Victoria electricity demand, normalized between 0 and 1\n",
      "* transfer: scheduled electricity transfer between both states, normalized between 0 and 1\n",
      "\n",
      "### Relevant papers  \n",
      "M. Harries. Splice-2 comparative evaluation: Electricity pricing. Technical report, The University of South Wales, 1999.  \n",
      "J. Gama, P. Medas, G. Castillo, and P. Rodrigues. Learning with drift detection. In SBIA Brazilian Symposium on Artificial Intelligence, pages 286–295, 2004.\n",
      "\n",
      "Downloaded from openml.org.\n"
     ]
    }
   ],
   "source": [
    "print(data.DESCR)"
   ]
  },
  {
   "cell_type": "markdown",
   "id": "fc639de1",
   "metadata": {},
   "source": [
    "## 1 Предобработка данных"
   ]
  },
  {
   "cell_type": "code",
   "execution_count": 6,
   "id": "d216db86",
   "metadata": {},
   "outputs": [
    {
     "name": "stdout",
     "output_type": "stream",
     "text": [
      "X head: \n",
      "      period  nswprice  nswdemand  vicprice  vicdemand  transfer\n",
      "0  0.000000  0.056443   0.439155  0.003467   0.422915  0.414912\n",
      "1  0.021277  0.051699   0.415055  0.003467   0.422915  0.414912\n",
      "2  0.042553  0.051489   0.385004  0.003467   0.422915  0.414912\n",
      "3  0.063830  0.045485   0.314639  0.003467   0.422915  0.414912\n",
      "4  0.085106  0.042482   0.251116  0.003467   0.422915  0.414912 \n",
      "-----------\n",
      "y head: \n",
      " 0    1\n",
      "1    1\n",
      "2    1\n",
      "3    1\n",
      "4    0\n",
      "Name: class, dtype: category\n",
      "Categories (2, int64): [1, 0] \n",
      "-----------\n",
      "The sum number of Nan values in all columns: \n",
      " <bound method NDFrame._add_numeric_operations.<locals>.sum of period       0\n",
      "nswprice     0\n",
      "nswdemand    0\n",
      "vicprice     0\n",
      "vicdemand    0\n",
      "transfer     0\n",
      "dtype: int64> \n",
      "-----------\n"
     ]
    }
   ],
   "source": [
    "X = data.data\n",
    "\n",
    "################################################################################################\n",
    "# В результате экспериментов было решено не кодировать нейроны date и day, а исключить их  \n",
    "# Подробнее в пункте 9 выводов                                                             \n",
    "\n",
    "\n",
    "# Закордируем дни недели и даты, применив one_hot_encoded. \n",
    "# При этом число входных нейронов увеличится до 946\n",
    "#X =  pd.concat([X, pd.get_dummies(X['day'], prefix='day')],axis=1)\n",
    "#X.drop(['day'], axis=1, inplace=True, errors='ignore')\n",
    "\n",
    "#X =  pd.concat([X, pd.get_dummies(X['date'], prefix='date')],axis=1)\n",
    "#X.drop(['date'], axis=1, inplace=True, errors='ignore')\n",
    "\n",
    "################################################################################################\n",
    "\n",
    "# Исключим нейроны date и day, тогда число входных нейронов уменьшится на 2\n",
    "X.drop(['date', 'day'], axis=1, inplace=True, errors='ignore')\n",
    "\n",
    "# Закордируем period, применив one_hot_encode\n",
    "# Число входных нейронов стало равно 53\n",
    "#X =  pd.concat([X, pd.get_dummies(X['period'], prefix='period')],axis=1)\n",
    "#X.drop(['period'], axis=1, inplace=True, errors='ignore')\n",
    "\n",
    "print('X head: \\n', X.head(), '\\n-----------')\n",
    "\n",
    "# Закордируем категориальные признаки так, что UP=1, DOWN=0\n",
    "y = data.target.map({'UP':1, 'DOWN':0})\n",
    "print('y head: \\n', y.head(), '\\n-----------')\n",
    "\n",
    "# Приведем к типу Tensor\n",
    "y=torch.tensor(y.to_numpy())\n",
    "\n",
    "# Проверяем, что нет пропущенных значений ни в одной из колонок. Везде получаем 0, то есть данные не нуждаются\n",
    "# в дополнительной обработке на пустые значения\n",
    "print('The sum number of Nan values in all columns: \\n', X.isnull().sum(axis = 0).sum, '\\n-----------')"
   ]
  },
  {
   "cell_type": "markdown",
   "id": "7a72226f",
   "metadata": {},
   "source": [
    "## 2 Разделение на train и test"
   ]
  },
  {
   "cell_type": "code",
   "execution_count": 7,
   "id": "8aa8aee3",
   "metadata": {
    "scrolled": true
   },
   "outputs": [
    {
     "name": "stdout",
     "output_type": "stream",
     "text": [
      "X_train shape is (40780, 6)\n",
      "y_train shape is torch.Size([40780])\n",
      "X_test shape is (4532, 6)\n",
      "y_test shape is torch.Size([4532])\n"
     ]
    }
   ],
   "source": [
    "# Для сплита будем использовать функцию train_test_split из библиотеки sklearn.model_selection\n",
    "X_train, X_test, y_train, y_test = train_test_split(X, y, test_size=0.1)\n",
    "\n",
    "print('X_train shape is', X_train.shape)\n",
    "print('y_train shape is', y_train.shape)\n",
    "print('X_test shape is', X_test.shape)\n",
    "print('y_test shape is', y_test.shape)"
   ]
  },
  {
   "cell_type": "markdown",
   "id": "cac67454",
   "metadata": {},
   "source": [
    "## 3 Обучение Scaler"
   ]
  },
  {
   "cell_type": "code",
   "execution_count": 8,
   "id": "4bc77e2a",
   "metadata": {},
   "outputs": [
    {
     "name": "stdout",
     "output_type": "stream",
     "text": [
      "tensor([[-1.4042e+00,  3.4375e-01, -4.3643e-01,  2.5274e-03, -1.0676e-06,\n",
      "         -5.5947e-01],\n",
      "        [-4.6647e-01,  4.2845e-01,  6.1647e-01,  2.5274e-03, -1.0676e-06,\n",
      "         -5.5947e-01],\n",
      "        [ 3.2700e-01,  5.6724e-02, -9.4878e-01,  2.5274e-03, -1.0676e-06,\n",
      "         -5.5947e-01],\n",
      "        ...,\n",
      "        [ 1.3369e+00, -3.0901e-01, -4.9467e-01,  2.5274e-03, -1.0676e-06,\n",
      "         -5.5947e-01],\n",
      "        [-6.1073e-01, -7.6842e-01,  2.9614e-01, -1.7385e-01,  7.2950e-01,\n",
      "         -7.0261e-01],\n",
      "        [ 1.5533e+00, -1.6812e-01,  8.8654e-02,  2.5274e-03, -1.0676e-06,\n",
      "         -5.5947e-01]], dtype=torch.float64)\n"
     ]
    }
   ],
   "source": [
    "scaler = StandardScaler()\n",
    "scaler.fit(X_train)\n",
    "X_train_sk = torch.tensor(scaler.transform(X_train))\n",
    "X_test_sk = torch.tensor(scaler.transform(X_test))\n",
    "\n",
    "print(X_test_sk)\n"
   ]
  },
  {
   "cell_type": "markdown",
   "id": "37543692",
   "metadata": {},
   "source": [
    "## 4 Создание собственного класса CustomDataDataset"
   ]
  },
  {
   "cell_type": "code",
   "execution_count": 9,
   "id": "b3a672fd",
   "metadata": {},
   "outputs": [],
   "source": [
    "class CustomDataset(Dataset):\n",
    "    def __init__(self, X_train, y_train):\n",
    "        self.X_train = torch.tensor(X_train, dtype=torch.float32, requires_grad=True)\n",
    "        self.y_train = torch.tensor(y_train)\n",
    "        \n",
    "    def __len__(self):\n",
    "        return len(self.X_train)\n",
    "\n",
    "    def __getitem__(self, idx):\n",
    "        return self.X_train[idx], self.y_train[idx]"
   ]
  },
  {
   "cell_type": "markdown",
   "id": "a86ddd65",
   "metadata": {},
   "source": [
    "## 5 Инициализия DataLoader"
   ]
  },
  {
   "cell_type": "code",
   "execution_count": 10,
   "id": "29d7ab17",
   "metadata": {},
   "outputs": [],
   "source": [
    "train = CustomDataset(X_train_sk, y_train)\n",
    "test = CustomDataset(X_test_sk, y_test)\n",
    "\n",
    "train_dataloader = DataLoader(train, batch_size=64, shuffle=True)\n",
    "test_dataloader = DataLoader(test, batch_size=64, shuffle=True)"
   ]
  },
  {
   "cell_type": "markdown",
   "id": "7f876e6c",
   "metadata": {},
   "source": [
    "## 6 Создание архитектуры нейросети"
   ]
  },
  {
   "cell_type": "code",
   "execution_count": 15,
   "id": "16cd7c44",
   "metadata": {},
   "outputs": [],
   "source": [
    "class NeuralNetwork(nn.Module):\n",
    "    def __init__(self):\n",
    "        super(NeuralNetwork, self).__init__()\n",
    "        self.linear_relu_stack = nn.Sequential(\n",
    "            nn.Linear(6, 512),\n",
    "            nn.ReLU(),\n",
    "            nn.Linear(512, 512),\n",
    "            nn.ReLU(),\n",
    "            nn.Linear(512, 2)\n",
    "        )\n",
    "\n",
    "    def forward(self, x):\n",
    "        logits = self.linear_relu_stack(x)\n",
    "        return logits"
   ]
  },
  {
   "cell_type": "markdown",
   "id": "879cedbd",
   "metadata": {},
   "source": [
    "## 7 Тренировка нейросети"
   ]
  },
  {
   "cell_type": "code",
   "execution_count": 16,
   "id": "f003fae8",
   "metadata": {},
   "outputs": [],
   "source": [
    "model = NeuralNetwork() \n",
    "\n",
    "def train_loop(dataloader, model, loss_fn, optimizer):\n",
    "    size = len(dataloader.dataset)\n",
    "    for batch, (X, y) in enumerate(dataloader):\n",
    "        # Compute prediction and loss\n",
    "        pred = model(X)\n",
    "        loss = loss_fn(pred, y)\n",
    "        # Backpropagation\n",
    "        optimizer.zero_grad()\n",
    "        loss.backward()\n",
    "        optimizer.step()\n",
    "\n",
    "        #if batch % 100 == 0:\n",
    "        #    loss, current = loss.item(), batch * len(X)\n",
    "        #    print(f\"loss: {loss:>7f}  [{current:>5d}/{size:>5d}]\")\n",
    "\n",
    "def test_loop(dataloader, model, loss_fn):\n",
    "    num_batches = len(dataloader)\n",
    "    test_loss, correct = 0, 0\n",
    "\n",
    "    with torch.no_grad():\n",
    "        for X, y in dataloader:\n",
    "            pred = model(X)\n",
    "            pred_soft=torch.softmax(pred, dim=1).argmax(dim=1)\n",
    "            test_loss += loss_fn(pred, y).item()\n",
    "            accuracy = torch.sum(pred_soft == y).float()\n",
    "    test_loss /= num_batches\n",
    "    accuracy /= len(y)\n",
    "    return [accuracy, test_loss]\n"
   ]
  },
  {
   "cell_type": "code",
   "execution_count": 17,
   "id": "5002d8b7",
   "metadata": {
    "scrolled": true
   },
   "outputs": [
    {
     "name": "stdout",
     "output_type": "stream",
     "text": [
      "Epoch 1 finished --> Accuracy: 69.2%, Avg loss: 0.513345\n",
      "Epoch 2 finished --> Accuracy: 82.7%, Avg loss: 0.469921\n",
      "Epoch 3 finished --> Accuracy: 65.4%, Avg loss: 0.508173\n",
      "Epoch 4 finished --> Accuracy: 82.7%, Avg loss: 0.471453\n",
      "Epoch 5 finished --> Accuracy: 84.6%, Avg loss: 0.473883\n",
      "Epoch 6 finished --> Accuracy: 82.7%, Avg loss: 0.464932\n",
      "Epoch 7 finished --> Accuracy: 76.9%, Avg loss: 0.469826\n",
      "Epoch 8 finished --> Accuracy: 78.8%, Avg loss: 0.448272\n",
      "Epoch 9 finished --> Accuracy: 86.5%, Avg loss: 0.458877\n",
      "Epoch 10 finished --> Accuracy: 84.6%, Avg loss: 0.446414\n",
      "Epoch 11 finished --> Accuracy: 65.4%, Avg loss: 0.482131\n",
      "Epoch 12 finished --> Accuracy: 71.2%, Avg loss: 0.469818\n",
      "Epoch 13 finished --> Accuracy: 71.2%, Avg loss: 0.444150\n",
      "Epoch 14 finished --> Accuracy: 75.0%, Avg loss: 0.457394\n",
      "Epoch 15 finished --> Accuracy: 82.7%, Avg loss: 0.462032\n",
      "Epoch 16 finished --> Accuracy: 78.8%, Avg loss: 0.471061\n",
      "Epoch 17 finished --> Accuracy: 88.5%, Avg loss: 0.463290\n",
      "Epoch 18 finished --> Accuracy: 88.5%, Avg loss: 0.444141\n",
      "Epoch 19 finished --> Accuracy: 82.7%, Avg loss: 0.459117\n",
      "Epoch 20 finished --> Accuracy: 90.4%, Avg loss: 0.442321\n",
      "Epoch 21 finished --> Accuracy: 76.9%, Avg loss: 0.436241\n",
      "Epoch 22 finished --> Accuracy: 82.7%, Avg loss: 0.445154\n",
      "Epoch 23 finished --> Accuracy: 84.6%, Avg loss: 0.439219\n",
      "Epoch 24 finished --> Accuracy: 80.8%, Avg loss: 0.430932\n",
      "Epoch 25 finished --> Accuracy: 82.7%, Avg loss: 0.445599\n",
      "Epoch 26 finished --> Accuracy: 80.8%, Avg loss: 0.459712\n",
      "Epoch 27 finished --> Accuracy: 88.5%, Avg loss: 0.437578\n",
      "Epoch 28 finished --> Accuracy: 82.7%, Avg loss: 0.492619\n",
      "Epoch 29 finished --> Accuracy: 63.5%, Avg loss: 0.454210\n",
      "Epoch 30 finished --> Accuracy: 78.8%, Avg loss: 0.428084\n",
      "Epoch 31 finished --> Accuracy: 76.9%, Avg loss: 0.431535\n",
      "Epoch 32 finished --> Accuracy: 80.8%, Avg loss: 0.443945\n",
      "Epoch 33 finished --> Accuracy: 82.7%, Avg loss: 0.432392\n",
      "Epoch 34 finished --> Accuracy: 80.8%, Avg loss: 0.426300\n",
      "Epoch 35 finished --> Accuracy: 76.9%, Avg loss: 0.435866\n",
      "Epoch 36 finished --> Accuracy: 84.6%, Avg loss: 0.423515\n",
      "Epoch 37 finished --> Accuracy: 78.8%, Avg loss: 0.428914\n",
      "Epoch 38 finished --> Accuracy: 76.9%, Avg loss: 0.442306\n",
      "Epoch 39 finished --> Accuracy: 76.9%, Avg loss: 0.438410\n",
      "Epoch 40 finished --> Accuracy: 78.8%, Avg loss: 0.427944\n",
      "Epoch 41 finished --> Accuracy: 69.2%, Avg loss: 0.428820\n",
      "Epoch 42 finished --> Accuracy: 90.4%, Avg loss: 0.435510\n",
      "Epoch 43 finished --> Accuracy: 76.9%, Avg loss: 0.439828\n",
      "Epoch 44 finished --> Accuracy: 69.2%, Avg loss: 0.478819\n",
      "Epoch 45 finished --> Accuracy: 75.0%, Avg loss: 0.437285\n",
      "Epoch 46 finished --> Accuracy: 80.8%, Avg loss: 0.423045\n",
      "Epoch 47 finished --> Accuracy: 75.0%, Avg loss: 0.455599\n",
      "Epoch 48 finished --> Accuracy: 82.7%, Avg loss: 0.453352\n",
      "Epoch 49 finished --> Accuracy: 82.7%, Avg loss: 0.419201\n",
      "Epoch 50 finished --> Accuracy: 82.7%, Avg loss: 0.423427\n"
     ]
    }
   ],
   "source": [
    "# Инициализируем массивы для отрисовки графиков\n",
    "epoch_list=list()\n",
    "accuracy_list=list()\n",
    "loss_list=list()\n",
    "\n",
    "# Инициализируем параметры для обучения\n",
    "learning_rate = 1e-1\n",
    "batch_size = 128\n",
    "epochs = 50\n",
    "loss_fn = nn.CrossEntropyLoss()\n",
    "optimizer = torch.optim.SGD(model.parameters(), lr=learning_rate)\n",
    "\n",
    "# Обучаем\n",
    "for t in range(epochs):\n",
    "    train_loop(train_dataloader, model, loss_fn, optimizer)\n",
    "    metrics_list=test_loop(test_dataloader, model, loss_fn)\n",
    "    print(f\"Epoch {t+1} finished --> Accuracy: {(100*metrics_list[0]):>0.1f}%, Avg loss: {metrics_list[1]:>8f}\") \n",
    "    epoch_list.append(t)\n",
    "    accuracy_list.append(metrics_list[0])\n",
    "    loss_list.append(metrics_list[1])\n",
    "    "
   ]
  },
  {
   "cell_type": "markdown",
   "id": "c33bfddd",
   "metadata": {},
   "source": [
    "## 8(10) Метрики"
   ]
  },
  {
   "cell_type": "code",
   "execution_count": 18,
   "id": "9e0305fc",
   "metadata": {},
   "outputs": [
    {
     "data": {
      "image/png": "[encoded data removed]",
      "text/plain": [
       "<Figure size 640x480 with 1 Axes>"
      ]
     },
     "metadata": {},
     "output_type": "display_data"
    },
    {
     "data": {
      "image/png": "[encoded data removed]",
      "text/plain": [
       "<Figure size 640x480 with 1 Axes>"
      ]
     },
     "metadata": {},
     "output_type": "display_data"
    }
   ],
   "source": [
    "###################################\n",
    "###  Построение графика потерь  ###\n",
    "###################################\n",
    "fig, axes = plt.subplots()\n",
    "\n",
    "\n",
    "axes.plot(epoch_list, loss_list, color='blue', label='loss')\n",
    "plt.title('Loss from epoch', pad = 20)\n",
    "plt.ylabel('loss')\n",
    "plt.xlabel('epoch')\n",
    "\n",
    "axes.set_xlim(0, epoch_list[-1])\n",
    "axes.set_ylim(0, 1)\n",
    "\n",
    "plt.legend(loc=5)\n",
    "\n",
    "# Добавление дополнительной ссетки\n",
    "axes.grid(which='major', color = '#666666')\n",
    "axes.minorticks_on()\n",
    "axes.grid(which='minor', color = 'gray', linestyle = ':')\n",
    "\n",
    "\n",
    "#####################################\n",
    "###  Построение графика точности  ###\n",
    "#####################################\n",
    "\n",
    "fig, axes1 = plt.subplots()\n",
    "\n",
    "axes1.plot(epoch_list, accuracy_list, color='red', label='accuracy')\n",
    "plt.title('Accuracy from epoch', pad = 20)\n",
    "plt.ylabel('accuracy')\n",
    "plt.xlabel('epoch')\n",
    "\n",
    "axes1.set_xlim(0, accuracy_list[-1])\n",
    "axes1.set_ylim(0, 1)\n",
    "\n",
    "plt.legend(loc=5)\n",
    "\n",
    "# Добавление дополнительной ссетки\n",
    "axes1.grid(which='major', color = '#666666')\n",
    "axes1.minorticks_on()\n",
    "axes1.grid(which='minor', color = 'gray', linestyle = ':')\n",
    "\n",
    "# Вывод отрисовки на экран\n",
    "plt.show()"
   ]
  },
  {
   "cell_type": "markdown",
   "id": "bc831991",
   "metadata": {},
   "source": [
    "## 9 Выводы"
   ]
  },
  {
   "cell_type": "markdown",
   "id": "1ac38e90",
   "metadata": {},
   "source": [
    "* В случае, если переводить date и day в one_hot_encoded, входной слой будет состоять из 946 нейронов, что делает нейронную сеть довольно тяжелой. А сами параметры, вероятно, мало влияют на выходной результат, так как будем считать, что цена на электричество мало зависит от дня недели, поэтому их можно опустить.\n",
    "* Learning rate был выбран 0.1, как наиболее дающий результат\n",
    "* Уже при 50 эпохах видно, что значение accuracy растет\n",
    "* Размер батча выбран, как batch_size = 128. Замечено, что при большем размере батча, модель обучается несколько быстрее\n",
    "* Для тестовой выборки было взято 10% от исходных наблюдений, что дает достаточную выборку и для X_train и для X_test\n",
    "* Выполнена кодировка категориальных признаков для y_train"
   ]
  }
 ],
 "metadata": {
  "kernelspec": {
   "display_name": "Python 3 (ipykernel)",
   "language": "python",
   "name": "python3"
  },
  "language_info": {
   "codemirror_mode": {
    "name": "ipython",
    "version": 3
   },
   "file_extension": ".py",
   "mimetype": "text/x-python",
   "name": "python",
   "nbconvert_exporter": "python",
   "pygments_lexer": "ipython3",
   "version": "3.8.10"
  }
 },
 "nbformat": 4,
 "nbformat_minor": 5
}
